{
  "cells": [
    {
      "cell_type": "markdown",
      "source": [
        "# Exercício da Aula - **Estruturas de Decisão** (Prática em Python)"
      ],
      "metadata": {
        "id": "SSqlHw302kEm"
      }
    },
    {
      "cell_type": "code",
      "source": [
        "team_name = input(\"Digite o nome do time: \")\n",
        "team_score = int(input(\"Digite a quantidade de pontos que o time possui: \"))\n",
        "\n",
        "if team_score >= 10:\n",
        "  print(team_name, \"está classificada para os playoffs!\")\n",
        "  print(\"Parabéns!\")\n",
        "elif team_score == 9:\n",
        "  print(team_name, \"irá passar pelo critério desempate.\")\n",
        "else:\n",
        "  print(team_name, \"está desclassificada. :(\")"
      ],
      "metadata": {
        "id": "A6_M5Y7e2y66",
        "outputId": "4d121cc1-18c5-4762-8d27-492423ee07fe",
        "colab": {
          "base_uri": "https://localhost:8080/"
        }
      },
      "execution_count": 10,
      "outputs": [
        {
          "output_type": "stream",
          "name": "stdout",
          "text": [
            "Digite o nome do time: Havan Liberty\n",
            "Digite a quantidade de pontos que o time possui: 9\n",
            "Havan Liberty irá passar pelo critério desempate.\n"
          ]
        }
      ]
    }
  ],
  "metadata": {
    "colab": {
      "name": "Olá, este é o Colaboratory",
      "toc_visible": true,
      "provenance": []
    },
    "kernelspec": {
      "display_name": "Python 3",
      "name": "python3"
    }
  },
  "nbformat": 4,
  "nbformat_minor": 0
}
