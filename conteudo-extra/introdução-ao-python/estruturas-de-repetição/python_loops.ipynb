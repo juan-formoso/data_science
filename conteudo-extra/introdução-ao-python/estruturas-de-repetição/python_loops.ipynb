{
  "cells": [
    {
      "cell_type": "markdown",
      "source": [
        "# Exercício da Aula - **Estruturas de Repetição** (Prática em Python)"
      ],
      "metadata": {
        "id": "SSqlHw302kEm"
      }
    },
    {
      "cell_type": "code",
      "source": [
        "# Exemplo com while\n",
        "count = 1\n",
        "while count <= 5:\n",
        "  print(count)\n",
        "  count += 1"
      ],
      "metadata": {
        "id": "qKe4WLYb_BOo"
      },
      "execution_count": null,
      "outputs": []
    },
    {
      "cell_type": "code",
      "source": [
        "\"\"\"\n",
        "range(0, 10, 1):\n",
        "range(inicio, parada, incremento):\n",
        "O python ignora o último valor de intervalos\n",
        "O incremento pode ser negativo\n",
        "\"\"\"\n",
        "\n",
        "# for default\n",
        "for i in range(0, 10):\n",
        "  print(i + 1)\n",
        "\n",
        "for i in range (1, 11):\n",
        "  print(i)\n",
        "\n",
        "# for decremento alterado\n",
        "for i in range (1, 11, 2):\n",
        "  print(i)"
      ],
      "metadata": {
        "id": "d_X7K2G__Xv9"
      },
      "execution_count": null,
      "outputs": []
    },
    {
      "cell_type": "code",
      "source": [
        "# for decrescente\n",
        "for i in range(10, 0, -1):\n",
        "  print(i)"
      ],
      "metadata": {
        "id": "fyUfchse_7DR"
      },
      "execution_count": null,
      "outputs": []
    },
    {
      "cell_type": "code",
      "source": [
        "# Exemplo com break\n",
        "for i in range(0, 11):\n",
        "  if i == 5:\n",
        "    break\n",
        "  print(i)"
      ],
      "metadata": {
        "id": "b2H_HaxIATde"
      },
      "execution_count": null,
      "outputs": []
    },
    {
      "cell_type": "code",
      "source": [
        "# Exemplo com continue\n",
        "for i in range(0, 11):\n",
        "  if i == 5:\n",
        "    continue\n",
        "  print(i)"
      ],
      "metadata": {
        "id": "eEx5b3KNAkSC"
      },
      "execution_count": null,
      "outputs": []
    }
  ],
  "metadata": {
    "colab": {
      "name": "Olá, este é o Colaboratory",
      "toc_visible": true,
      "provenance": []
    },
    "kernelspec": {
      "display_name": "Python 3",
      "name": "python3"
    }
  },
  "nbformat": 4,
  "nbformat_minor": 0
}