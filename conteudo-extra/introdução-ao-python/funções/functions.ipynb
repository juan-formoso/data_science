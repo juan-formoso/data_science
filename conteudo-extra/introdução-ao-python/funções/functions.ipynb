{
  "nbformat": 4,
  "nbformat_minor": 0,
  "metadata": {
    "colab": {
      "provenance": []
    },
    "kernelspec": {
      "name": "python3",
      "display_name": "Python 3"
    },
    "language_info": {
      "name": "python"
    }
  },
  "cells": [
    {
      "cell_type": "markdown",
      "source": [
        "# Exercício da Aula - Funções (Prática em Python)"
      ],
      "metadata": {
        "id": "YGBGUFk6AoY7"
      }
    },
    {
      "cell_type": "code",
      "execution_count": 1,
      "metadata": {
        "colab": {
          "base_uri": "https://localhost:8080/"
        },
        "id": "2TAdreMCAnQM",
        "outputId": "6d314b5e-e6e1-4a9a-8c9c-b4d04f4b616d"
      },
      "outputs": [
        {
          "output_type": "stream",
          "name": "stdout",
          "text": [
            "Este texto\n"
          ]
        }
      ],
      "source": [
        "def imprime():\n",
        "  print(\"Este texto\")\n",
        "\n",
        "imprime()"
      ]
    },
    {
      "cell_type": "code",
      "source": [
        "# com parâmetro\n",
        "def imprime(text):\n",
        "  print(text)\n",
        "\n",
        "imprime(\"Avengers Endgame is the best movie of all time!\")"
      ],
      "metadata": {
        "colab": {
          "base_uri": "https://localhost:8080/"
        },
        "id": "5yh2O6eZBBlk",
        "outputId": "289bbad5-acee-442c-df06-cd499cf085c9"
      },
      "execution_count": 2,
      "outputs": [
        {
          "output_type": "stream",
          "name": "stdout",
          "text": [
            "Avengers Endgame is the best movie of all time!\n"
          ]
        }
      ]
    },
    {
      "cell_type": "code",
      "source": [
        "# com retorno\n",
        "def potencia(n):\n",
        "  return n * n\n",
        "\n",
        "potencia(3)"
      ],
      "metadata": {
        "colab": {
          "base_uri": "https://localhost:8080/"
        },
        "id": "kegxti0OBPSX",
        "outputId": "08970947-4c81-4612-c5ca-c9ed960485c7"
      },
      "execution_count": 3,
      "outputs": [
        {
          "output_type": "execute_result",
          "data": {
            "text/plain": [
              "9"
            ]
          },
          "metadata": {},
          "execution_count": 3
        }
      ]
    },
    {
      "cell_type": "code",
      "source": [
        "# com valor default\n",
        "def count(start=1, end=10):\n",
        "  for n in range(start, end+1):\n",
        "    print(n)\n",
        "\n",
        "count(1, 10)\n",
        "count()"
      ],
      "metadata": {
        "colab": {
          "base_uri": "https://localhost:8080/"
        },
        "id": "VQA-U-r3BYGq",
        "outputId": "65f5b529-a356-45a6-a4a8-2f717e1f1a0e"
      },
      "execution_count": 4,
      "outputs": [
        {
          "output_type": "stream",
          "name": "stdout",
          "text": [
            "1\n",
            "2\n",
            "3\n",
            "4\n",
            "5\n",
            "6\n",
            "7\n",
            "8\n",
            "9\n",
            "10\n",
            "1\n",
            "2\n",
            "3\n",
            "4\n",
            "5\n",
            "6\n",
            "7\n",
            "8\n",
            "9\n",
            "10\n"
          ]
        }
      ]
    }
  ]
}
