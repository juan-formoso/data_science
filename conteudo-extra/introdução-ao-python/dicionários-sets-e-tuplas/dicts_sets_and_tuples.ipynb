{
  "nbformat": 4,
  "nbformat_minor": 0,
  "metadata": {
    "colab": {
      "provenance": []
    },
    "kernelspec": {
      "name": "python3",
      "display_name": "Python 3"
    },
    "language_info": {
      "name": "python"
    }
  },
  "cells": [
    {
      "cell_type": "markdown",
      "source": [
        "# Exercício da Aula - Dicionários, Sets e Tuplas (Prática em Python)"
      ],
      "metadata": {
        "id": "HMjSSq32A69b"
      }
    },
    {
      "cell_type": "code",
      "execution_count": 1,
      "metadata": {
        "colab": {
          "base_uri": "https://localhost:8080/"
        },
        "id": "7Ao7YxDTA4hj",
        "outputId": "45c306b9-3c7b-4737-d9f5-3751ee2ae455"
      },
      "outputs": [
        {
          "output_type": "stream",
          "name": "stdout",
          "text": [
            "{'Morango': 0.6, 'Maçã': 2.0, 'Banana': 8.5}\n"
          ]
        }
      ],
      "source": [
        "# dicionários: estrutura chave/valor\n",
        "Preços = {\"Morango\": 0.6, \"Maçã\": 2.0, \"Banana\": 8.5}\n",
        "print(Preços)"
      ]
    },
    {
      "cell_type": "code",
      "source": [
        "# imprimindo uma chave específica\n",
        "print(Preços[\"Maçã\"])"
      ],
      "metadata": {
        "colab": {
          "base_uri": "https://localhost:8080/"
        },
        "id": "1wMNoYe5BcR3",
        "outputId": "910c7168-dc7a-40ae-aa70-e6c4a98c8057"
      },
      "execution_count": 2,
      "outputs": [
        {
          "output_type": "stream",
          "name": "stdout",
          "text": [
            "2.0\n"
          ]
        }
      ]
    },
    {
      "cell_type": "code",
      "source": [
        "# imprimindo todas as chaves\n",
        "Preços.keys()"
      ],
      "metadata": {
        "colab": {
          "base_uri": "https://localhost:8080/"
        },
        "id": "l_LEniZhBjSQ",
        "outputId": "f1f384ff-c19c-4b8f-ce3a-5dd5894711c0"
      },
      "execution_count": 3,
      "outputs": [
        {
          "output_type": "execute_result",
          "data": {
            "text/plain": [
              "dict_keys(['Morango', 'Maçã', 'Banana'])"
            ]
          },
          "metadata": {},
          "execution_count": 3
        }
      ]
    },
    {
      "cell_type": "code",
      "source": [
        "# todos os valores\n",
        "Preços.values()"
      ],
      "metadata": {
        "colab": {
          "base_uri": "https://localhost:8080/"
        },
        "id": "RFzxiLTLBpEm",
        "outputId": "a839c1d3-1931-42fb-9104-dd4294cee6ce"
      },
      "execution_count": 4,
      "outputs": [
        {
          "output_type": "execute_result",
          "data": {
            "text/plain": [
              "dict_values([0.6, 2.0, 8.5])"
            ]
          },
          "metadata": {},
          "execution_count": 4
        }
      ]
    },
    {
      "cell_type": "code",
      "source": [
        "# testa logicamente a existência\n",
        "print(\"Banana\" in Preços)\n",
        "print(\"Melancia\" in Preços)"
      ],
      "metadata": {
        "colab": {
          "base_uri": "https://localhost:8080/"
        },
        "id": "fRtrLZPPBuPK",
        "outputId": "13646a56-d587-40e6-960b-7adccc33cb9f"
      },
      "execution_count": 5,
      "outputs": [
        {
          "output_type": "stream",
          "name": "stdout",
          "text": [
            "True\n",
            "False\n"
          ]
        }
      ]
    },
    {
      "cell_type": "code",
      "source": [
        "# apaga um elemento\n",
        "del Preços[\"Morango\"]\n",
        "print(Preços)"
      ],
      "metadata": {
        "colab": {
          "base_uri": "https://localhost:8080/"
        },
        "id": "hWUm9GIHB5Lq",
        "outputId": "38ffb796-65df-4d0b-d8b6-bb5497158f18"
      },
      "execution_count": 6,
      "outputs": [
        {
          "output_type": "stream",
          "name": "stdout",
          "text": [
            "{'Maçã': 2.0, 'Banana': 8.5}\n"
          ]
        }
      ]
    },
    {
      "cell_type": "code",
      "source": [
        "# inclui um elemento\n",
        "Preços[\"Kiwi\"] = 12.0\n",
        "print(Preços)"
      ],
      "metadata": {
        "colab": {
          "base_uri": "https://localhost:8080/"
        },
        "id": "cCQ0Ox9fCAw-",
        "outputId": "12bbe3b1-5d1e-4cc6-d649-a3aab83181d8"
      },
      "execution_count": 8,
      "outputs": [
        {
          "output_type": "stream",
          "name": "stdout",
          "text": [
            "{'Maçã': 2.0, 'Banana': 8.5, 'Kiwi': 12.0}\n"
          ]
        }
      ]
    },
    {
      "cell_type": "code",
      "source": [
        "# busca um valor, se não encontrar retorna o segundo parâmetro\n",
        "Preços.get(\"Uva\", \"Produto inexistente ou indisponível no momento.\")"
      ],
      "metadata": {
        "colab": {
          "base_uri": "https://localhost:8080/",
          "height": 35
        },
        "id": "wxEZeCTbCVKC",
        "outputId": "d5947dab-0b8a-4b1d-83c3-aea1fc75a366"
      },
      "execution_count": 9,
      "outputs": [
        {
          "output_type": "execute_result",
          "data": {
            "text/plain": [
              "'Produto inexistente ou indisponível no momento.'"
            ],
            "application/vnd.google.colaboratory.intrinsic+json": {
              "type": "string"
            }
          },
          "metadata": {},
          "execution_count": 9
        }
      ]
    },
    {
      "cell_type": "code",
      "source": [
        "# sets são listas não ordenadas e sem repetição\n",
        "cblol_teams = {\"INTZ\", \"Pain Gaming\", \"LOUD\"}\n",
        "print(cblol_teams)"
      ],
      "metadata": {
        "colab": {
          "base_uri": "https://localhost:8080/"
        },
        "id": "PSDGdw_FC3Qy",
        "outputId": "965d6588-db7a-4a23-94b7-abcd6289ce30"
      },
      "execution_count": 10,
      "outputs": [
        {
          "output_type": "stream",
          "name": "stdout",
          "text": [
            "{'Pain Gaming', 'INTZ', 'LOUD'}\n"
          ]
        }
      ]
    },
    {
      "cell_type": "code",
      "source": [
        "# verifica existência de valor\n",
        "print(\"INTZ\" in cblol_teams)"
      ],
      "metadata": {
        "colab": {
          "base_uri": "https://localhost:8080/"
        },
        "id": "kPoyaBQjDJaT",
        "outputId": "140503d8-8636-4fe5-dbd4-3dc5c7ed0dc0"
      },
      "execution_count": 11,
      "outputs": [
        {
          "output_type": "stream",
          "name": "stdout",
          "text": [
            "True\n"
          ]
        }
      ]
    },
    {
      "cell_type": "code",
      "source": [
        "# adiciona elemento\n",
        "cblol_teams.add(\"KabuM!\")\n",
        "print(cblol_teams)"
      ],
      "metadata": {
        "colab": {
          "base_uri": "https://localhost:8080/"
        },
        "id": "Q0z0liCDDYwL",
        "outputId": "001b7a14-47c6-4a04-ad00-fc56954ea765"
      },
      "execution_count": 13,
      "outputs": [
        {
          "output_type": "stream",
          "name": "stdout",
          "text": [
            "{'KabuM!', 'Pain Gaming', 'INTZ', 'LOUD'}\n"
          ]
        }
      ]
    },
    {
      "cell_type": "code",
      "source": [
        "# número de elementos\n",
        "print(len(cblol_teams))"
      ],
      "metadata": {
        "colab": {
          "base_uri": "https://localhost:8080/"
        },
        "id": "Jp0nqGzJD7YB",
        "outputId": "26679b7d-5d88-4b9a-adeb-1787ffb37a41"
      },
      "execution_count": 14,
      "outputs": [
        {
          "output_type": "stream",
          "name": "stdout",
          "text": [
            "4\n"
          ]
        }
      ]
    },
    {
      "cell_type": "code",
      "source": [
        "# tenta adicionar um elemento já existente\n",
        "cblol_teams.add(\"Pain Gaming\")\n",
        "print(cblol_teams)"
      ],
      "metadata": {
        "colab": {
          "base_uri": "https://localhost:8080/"
        },
        "id": "MN5i0FzhD_i7",
        "outputId": "26c31c95-ba2e-4181-fa8f-5585d5dd2ff8"
      },
      "execution_count": 15,
      "outputs": [
        {
          "output_type": "stream",
          "name": "stdout",
          "text": [
            "{'KabuM!', 'Pain Gaming', 'INTZ', 'LOUD'}\n"
          ]
        }
      ]
    },
    {
      "cell_type": "code",
      "source": [
        "# tuplas são listas que não podem ser alteradas\n",
        "# listas usam [], tuplas usam ()\n",
        "tupla = (1, 2, 3, 4, 5, 6)\n",
        "tupla"
      ],
      "metadata": {
        "colab": {
          "base_uri": "https://localhost:8080/"
        },
        "id": "0JBw8TIoEKmw",
        "outputId": "07fe4e4b-b369-4b59-f013-c0a1157bcd51"
      },
      "execution_count": 16,
      "outputs": [
        {
          "output_type": "execute_result",
          "data": {
            "text/plain": [
              "(1, 2, 3, 4, 5, 6)"
            ]
          },
          "metadata": {},
          "execution_count": 16
        }
      ]
    },
    {
      "cell_type": "code",
      "source": [
        "# usando índice\n",
        "tupla[5]"
      ],
      "metadata": {
        "colab": {
          "base_uri": "https://localhost:8080/"
        },
        "id": "NpH4YWGZEbj-",
        "outputId": "ac6f2887-b52c-436d-ab15-175b1e9c42fa"
      },
      "execution_count": 17,
      "outputs": [
        {
          "output_type": "execute_result",
          "data": {
            "text/plain": [
              "6"
            ]
          },
          "metadata": {},
          "execution_count": 17
        }
      ]
    },
    {
      "cell_type": "code",
      "source": [
        "# dicionários em que cada posição recebe uma tabela\n",
        "cartesian_plane = {(0, 1): 0, (1, 2): 1, (2, 3): 2, (3, 4): 3}\n",
        "cartesian_plane"
      ],
      "metadata": {
        "colab": {
          "base_uri": "https://localhost:8080/"
        },
        "id": "JiSn3iOVEmjE",
        "outputId": "e12b97fa-d698-432d-b093-1cf98cb7673d"
      },
      "execution_count": 18,
      "outputs": [
        {
          "output_type": "execute_result",
          "data": {
            "text/plain": [
              "{(0, 1): 0, (1, 2): 1, (2, 3): 2, (3, 4): 3}"
            ]
          },
          "metadata": {},
          "execution_count": 18
        }
      ]
    },
    {
      "cell_type": "code",
      "source": [
        "# imprimindo tipos\n",
        "print(type(Preços))\n",
        "print(type(cblol_teams))\n",
        "print(type(tupla))\n",
        "print(type(cartesian_plane))"
      ],
      "metadata": {
        "colab": {
          "base_uri": "https://localhost:8080/"
        },
        "id": "Ixv-ssykFilE",
        "outputId": "acd43a57-8d17-4231-9e5a-8445ef391aa6"
      },
      "execution_count": 19,
      "outputs": [
        {
          "output_type": "stream",
          "name": "stdout",
          "text": [
            "<class 'dict'>\n",
            "<class 'set'>\n",
            "<class 'tuple'>\n",
            "<class 'dict'>\n"
          ]
        }
      ]
    }
  ]
}
