{
  "nbformat": 4,
  "nbformat_minor": 0,
  "metadata": {
    "colab": {
      "provenance": []
    },
    "kernelspec": {
      "name": "python3",
      "display_name": "Python 3"
    },
    "language_info": {
      "name": "python"
    }
  },
  "cells": [
    {
      "cell_type": "markdown",
      "source": [
        "# Exercício da Aula - Listas (Prática em Python)"
      ],
      "metadata": {
        "id": "w_Vr-VGGTgil"
      }
    },
    {
      "cell_type": "code",
      "source": [
        "# formas de criar listas\n",
        "list1 = [1, 2, 3, 4, 5]\n",
        "print(list1)"
      ],
      "metadata": {
        "colab": {
          "base_uri": "https://localhost:8080/"
        },
        "id": "ooWPn9RRTptC",
        "outputId": "98abe339-3bdc-4211-faf4-4fbc6575b415"
      },
      "execution_count": 1,
      "outputs": [
        {
          "output_type": "stream",
          "name": "stdout",
          "text": [
            "[1, 2, 3, 4, 5]\n"
          ]
        }
      ]
    },
    {
      "cell_type": "code",
      "source": [
        "# vários tipos\n",
        "list2 = [1, 2, 3, \"4\", True]\n",
        "print(list2)"
      ],
      "metadata": {
        "colab": {
          "base_uri": "https://localhost:8080/"
        },
        "id": "uKANqq17T1VU",
        "outputId": "8b525072-b313-47a3-f7e3-714f95579d0e"
      },
      "execution_count": 2,
      "outputs": [
        {
          "output_type": "stream",
          "name": "stdout",
          "text": [
            "[1, 2, 3, '4', True]\n"
          ]
        }
      ]
    },
    {
      "cell_type": "code",
      "source": [
        "# lista com lista\n",
        "list3 = [12, [1, 2, 3, 4, 5], \"a\"]\n",
        "print(list3)"
      ],
      "metadata": {
        "colab": {
          "base_uri": "https://localhost:8080/"
        },
        "id": "i2HJ0pPTT9ay",
        "outputId": "84c965db-3edc-4285-d02f-470d3b092326"
      },
      "execution_count": 3,
      "outputs": [
        {
          "output_type": "stream",
          "name": "stdout",
          "text": [
            "[12, [1, 2, 3, 4, 5], 'a']\n"
          ]
        }
      ]
    },
    {
      "cell_type": "code",
      "source": [
        "# criando lista com range\n",
        "list4 = list(range(0, 10))\n",
        "print(list4)"
      ],
      "metadata": {
        "colab": {
          "base_uri": "https://localhost:8080/"
        },
        "id": "ZTYSMSscUGz5",
        "outputId": "100c41e0-26b4-4f91-82cb-3582be16f4c7"
      },
      "execution_count": 4,
      "outputs": [
        {
          "output_type": "stream",
          "name": "stdout",
          "text": [
            "[0, 1, 2, 3, 4, 5, 6, 7, 8, 9]\n"
          ]
        }
      ]
    },
    {
      "cell_type": "code",
      "source": [
        "# comprimento de uma lista\n",
        "len(list4)"
      ],
      "metadata": {
        "colab": {
          "base_uri": "https://localhost:8080/"
        },
        "id": "7QVi2xz-U4NO",
        "outputId": "2b54e280-9058-421d-d5b8-f6d2b372587c"
      },
      "execution_count": 7,
      "outputs": [
        {
          "output_type": "execute_result",
          "data": {
            "text/plain": [
              "10"
            ]
          },
          "metadata": {},
          "execution_count": 7
        }
      ]
    },
    {
      "cell_type": "code",
      "source": [
        "# acessando elemento\n",
        "print(list4[4])\n",
        "# posição 1 em uma lista\n",
        "print(list1[0])\n",
        "# alterando posição\n",
        "list2[1] = 10\n",
        "print(list2)"
      ],
      "metadata": {
        "colab": {
          "base_uri": "https://localhost:8080/"
        },
        "id": "2yfq65OpUS_k",
        "outputId": "184caaea-7acc-48df-df6d-db4f92451986"
      },
      "execution_count": 6,
      "outputs": [
        {
          "output_type": "stream",
          "name": "stdout",
          "text": [
            "4\n",
            "1\n",
            "[1, 10, 3, '4', True]\n"
          ]
        }
      ]
    },
    {
      "cell_type": "code",
      "source": [
        "# percorrendo lista\n",
        "for i in range(0, len(list4)):\n",
        "  print(list4[i] + 1)"
      ],
      "metadata": {
        "colab": {
          "base_uri": "https://localhost:8080/"
        },
        "id": "63j3wr3ZUwQ4",
        "outputId": "c3d7cb7c-de54-4a51-eb50-d04f8e001d53"
      },
      "execution_count": 8,
      "outputs": [
        {
          "output_type": "stream",
          "name": "stdout",
          "text": [
            "1\n",
            "2\n",
            "3\n",
            "4\n",
            "5\n",
            "6\n",
            "7\n",
            "8\n",
            "9\n",
            "10\n"
          ]
        }
      ]
    }
  ]
}
