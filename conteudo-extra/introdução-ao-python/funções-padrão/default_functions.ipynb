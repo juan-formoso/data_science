{
  "nbformat": 4,
  "nbformat_minor": 0,
  "metadata": {
    "colab": {
      "provenance": []
    },
    "kernelspec": {
      "name": "python3",
      "display_name": "Python 3"
    },
    "language_info": {
      "name": "python"
    }
  },
  "cells": [
    {
      "cell_type": "markdown",
      "source": [
        "# Exercício da Aula - Funções Padrão (Prática em Python)"
      ],
      "metadata": {
        "id": "IoV_MMoiFa4D"
      }
    },
    {
      "cell_type": "code",
      "execution_count": 4,
      "metadata": {
        "colab": {
          "base_uri": "https://localhost:8080/"
        },
        "id": "lPEbpglEFaZE",
        "outputId": "97e6b80d-5c6c-447b-dd06-95e61cc2a186"
      },
      "outputs": [
        {
          "output_type": "stream",
          "name": "stdout",
          "text": [
            "350\n",
            "Maior valor:  70\n",
            "Menor valor:  1\n",
            "Soma:  169\n",
            "Arredondamento:  3.513\n"
          ]
        }
      ],
      "source": [
        "# funções internas\n",
        "print(abs(-350))\n",
        "lst = [1, 15, 20, 48, 70, 15]\n",
        "print(\"Maior valor: \", max(lst))\n",
        "print(\"Menor valor: \", min(lst))\n",
        "print(\"Soma: \", sum(lst))\n",
        "print(\"Arredondamento: \", round(3.51284, 3))"
      ]
    },
    {
      "cell_type": "code",
      "source": [
        "# statistics module\n",
        "import statistics as est\n",
        "print(\"Média: \", est.mean(lst))\n",
        "print(\"Mediana: \", est.median(lst))\n",
        "print(\"Moda: \", est.mode(lst))"
      ],
      "metadata": {
        "colab": {
          "base_uri": "https://localhost:8080/"
        },
        "id": "485eGdEEGEcR",
        "outputId": "a4eea3b6-99f3-4fe7-ee36-3621aa207331"
      },
      "execution_count": 5,
      "outputs": [
        {
          "output_type": "stream",
          "name": "stdout",
          "text": [
            "Média:  28.166666666666668\n",
            "Mediana:  17.5\n",
            "Moda:  15\n"
          ]
        }
      ]
    },
    {
      "cell_type": "code",
      "source": [
        "# desvio padrão\n",
        "print(\"Desvio padrão: \", est.stdev(lst))"
      ],
      "metadata": {
        "colab": {
          "base_uri": "https://localhost:8080/"
        },
        "id": "aUT3XvbUGw41",
        "outputId": "57cf9417-6639-4010-b8ae-12b60e9be86c"
      },
      "execution_count": 6,
      "outputs": [
        {
          "output_type": "stream",
          "name": "stdout",
          "text": [
            "Desvio padrão:  25.67034605662079\n"
          ]
        }
      ]
    },
    {
      "cell_type": "code",
      "source": [
        "# variância\n",
        "print(\"Variância: \", est.variance(lst))"
      ],
      "metadata": {
        "colab": {
          "base_uri": "https://localhost:8080/"
        },
        "id": "5AhzYuaeGw_t",
        "outputId": "cb87e4e6-921c-4e59-8d79-60defaafa168"
      },
      "execution_count": 7,
      "outputs": [
        {
          "output_type": "stream",
          "name": "stdout",
          "text": [
            "Variância:  658.9666666666666\n"
          ]
        }
      ]
    },
    {
      "cell_type": "code",
      "source": [
        "from numpy import random\n",
        "mt = random.random((8, 8))\n",
        "print(type(mt))\n",
        "print(mt)"
      ],
      "metadata": {
        "colab": {
          "base_uri": "https://localhost:8080/"
        },
        "id": "QEBvAdn8G9fq",
        "outputId": "543dbd0f-e7cb-4272-c0d1-1abfb03d5c70"
      },
      "execution_count": 10,
      "outputs": [
        {
          "output_type": "stream",
          "name": "stdout",
          "text": [
            "<class 'numpy.ndarray'>\n",
            "[[0.73505735 0.67134297 0.30603172 0.36465499 0.18914512 0.37092586\n",
            "  0.68749921 0.47537885]\n",
            " [0.0461021  0.9794382  0.82999769 0.08677153 0.92254488 0.58922229\n",
            "  0.72454146 0.92786504]\n",
            " [0.12730437 0.23299084 0.68819346 0.74091628 0.25880556 0.70471242\n",
            "  0.79705359 0.4426297 ]\n",
            " [0.75551561 0.22585783 0.35883265 0.41390238 0.34633478 0.71196288\n",
            "  0.48633273 0.14063251]\n",
            " [0.90979031 0.39839128 0.5541002  0.3786193  0.63452281 0.18695266\n",
            "  0.76268337 0.3091583 ]\n",
            " [0.55759167 0.74970017 0.93627326 0.31849708 0.02349701 0.42756922\n",
            "  0.09952593 0.98324718]\n",
            " [0.54398228 0.75256124 0.3749917  0.95325827 0.89562147 0.26178916\n",
            "  0.18862055 0.78497677]\n",
            " [0.12152975 0.13214407 0.39034344 0.92080839 0.03033721 0.3437787\n",
            "  0.67077752 0.21932835]]\n"
          ]
        }
      ]
    }
  ]
}
