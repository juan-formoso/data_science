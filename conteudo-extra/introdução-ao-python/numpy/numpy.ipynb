{
  "nbformat": 4,
  "nbformat_minor": 0,
  "metadata": {
    "colab": {
      "provenance": []
    },
    "kernelspec": {
      "name": "python3",
      "display_name": "Python 3"
    },
    "language_info": {
      "name": "python"
    }
  },
  "cells": [
    {
      "cell_type": "markdown",
      "source": [
        "# Exercício da Aula - Numpy (Prática em Python)"
      ],
      "metadata": {
        "id": "WuwWuu8sLTbe"
      }
    },
    {
      "cell_type": "code",
      "execution_count": 1,
      "metadata": {
        "id": "J3vxB5EFLS9F"
      },
      "outputs": [],
      "source": [
        "# importando biblioteca e declarando alias\n",
        "import numpy as np"
      ]
    },
    {
      "cell_type": "code",
      "source": [
        "# cria uma matriz unidimensional\n",
        "mt = np.array([12, 24, 36, 48])\n",
        "print(mt)\n",
        "print(type(mt))"
      ],
      "metadata": {
        "colab": {
          "base_uri": "https://localhost:8080/"
        },
        "id": "RHDiZLknLiv4",
        "outputId": "e5c6ae25-ec0c-4018-d776-e5177abce537"
      },
      "execution_count": 2,
      "outputs": [
        {
          "output_type": "stream",
          "name": "stdout",
          "text": [
            "[12 24 36 48]\n",
            "<class 'numpy.ndarray'>\n"
          ]
        }
      ]
    },
    {
      "cell_type": "code",
      "source": [
        "# criar o array com um tipo específico\n",
        "# cria o array como um float de 64 bits\n",
        "mtfloat = np.array([2, 4, 6, 8, 10], dtype = np.float64)\n",
        "print(mtfloat)\n",
        "print(type(mtfloat))\n",
        "# cria o array como um inteiro de 32 bits\n",
        "mtint = np.array([2, 4, 6, 8, 10], dtype = np.int32)\n",
        "print(mtint)\n",
        "print(type(mtint))"
      ],
      "metadata": {
        "colab": {
          "base_uri": "https://localhost:8080/"
        },
        "id": "ez3bOeqzL8V9",
        "outputId": "a7f1b8b0-a1e0-4d6d-a859-3f15980575dc"
      },
      "execution_count": 3,
      "outputs": [
        {
          "output_type": "stream",
          "name": "stdout",
          "text": [
            "[ 2.  4.  6.  8. 10.]\n",
            "<class 'numpy.ndarray'>\n",
            "[ 2  4  6  8 10]\n",
            "<class 'numpy.ndarray'>\n"
          ]
        }
      ]
    },
    {
      "cell_type": "code",
      "source": [
        "# mudar o tipo do array\n",
        "# é possível transformar tipos de dados do array\n",
        "mtnew = np.array([1.5, 2.0, -33.333333, 4.123124, 5.777])\n",
        "print(mtnew)\n",
        "mtnewint = mtnew.astype(np.int32)\n",
        "print(mtnewint)"
      ],
      "metadata": {
        "colab": {
          "base_uri": "https://localhost:8080/"
        },
        "id": "sQRvsUvsMlqj",
        "outputId": "9b1f0b06-efab-4731-cf6a-814973f49d3d"
      },
      "execution_count": 4,
      "outputs": [
        {
          "output_type": "stream",
          "name": "stdout",
          "text": [
            "[  1.5        2.       -33.333333   4.123124   5.777   ]\n",
            "[  1   2 -33   4   5]\n"
          ]
        }
      ]
    },
    {
      "cell_type": "code",
      "source": [
        "# também é possível fazer o inverso\n",
        "mt5 = np.array([1, 2, 3])\n",
        "print(mt5)\n",
        "mt6 = mt5.astype(np.float64)\n",
        "print(mt6)"
      ],
      "metadata": {
        "colab": {
          "base_uri": "https://localhost:8080/"
        },
        "id": "Nro_JOGfNQ1N",
        "outputId": "5f7ccb35-af4c-49c3-a8b3-6ece94900c69"
      },
      "execution_count": 5,
      "outputs": [
        {
          "output_type": "stream",
          "name": "stdout",
          "text": [
            "[1 2 3]\n",
            "[1. 2. 3.]\n"
          ]
        }
      ]
    },
    {
      "cell_type": "code",
      "source": [
        "# cria matriz com mais de uma dimensão\n",
        "# bidimensional\n",
        "mt7 = np.array([[10, 20, 30], [40, 80, 120], [160, 320, 480]])\n",
        "print(mt7)"
      ],
      "metadata": {
        "colab": {
          "base_uri": "https://localhost:8080/"
        },
        "id": "fYVYFbAFNo1C",
        "outputId": "c55a6cf3-d56b-4806-e6ad-4517e939c51f"
      },
      "execution_count": 6,
      "outputs": [
        {
          "output_type": "stream",
          "name": "stdout",
          "text": [
            "[[ 10  20  30]\n",
            " [ 40  80 120]\n",
            " [160 320 480]]\n"
          ]
        }
      ]
    },
    {
      "cell_type": "code",
      "source": [
        "# cria arrays vazios tipificados\n",
        "# empty significa que não são inicializados, não que são vazios\n",
        "vazio = np.empty([3,2], dtype = int)\n",
        "print(vazio)\n",
        "print(\"----------\")\n",
        "# cria uma matriz nula\n",
        "zeros = np.zeros([4,3])\n",
        "print(zeros)\n",
        "print(\"----------\")\n",
        "# cria uma matriz composta por valores um\n",
        "one = np.ones([4,3])\n",
        "print(one)\n",
        "print(\"----------\")\n",
        "# cria uma matriz quadrada com diagonal principal com valores 1 e outros valores 0\n",
        "square_mt = np.eye(5)\n",
        "print(square_mt)"
      ],
      "metadata": {
        "colab": {
          "base_uri": "https://localhost:8080/"
        },
        "id": "8oyRA6X_OYH_",
        "outputId": "fa8891bd-e2a1-49f0-a796-a28612168b97"
      },
      "execution_count": 7,
      "outputs": [
        {
          "output_type": "stream",
          "name": "stdout",
          "text": [
            "[[35833632        0]\n",
            " [       0        0]\n",
            " [       0        0]]\n",
            "----------\n",
            "[[0. 0. 0.]\n",
            " [0. 0. 0.]\n",
            " [0. 0. 0.]\n",
            " [0. 0. 0.]]\n",
            "----------\n",
            "[[1. 1. 1.]\n",
            " [1. 1. 1.]\n",
            " [1. 1. 1.]\n",
            " [1. 1. 1.]]\n",
            "----------\n",
            "[[1. 0. 0. 0. 0.]\n",
            " [0. 1. 0. 0. 0.]\n",
            " [0. 0. 1. 0. 0.]\n",
            " [0. 0. 0. 1. 0.]\n",
            " [0. 0. 0. 0. 1.]]\n"
          ]
        }
      ]
    },
    {
      "cell_type": "code",
      "source": [
        "# cria valores aleatórios entre 0 e 1\n",
        "random_num = np.random.random((5))\n",
        "print(random_num)\n",
        "print(\"----------\")\n",
        "# valores aleatórios (distribuição normal) contendo negativos\n",
        "random_negative = np.random.randn((5))\n",
        "print(random_negative)\n",
        "print(\"----------\")\n",
        "# valores aleatórios matriz 3 x 4\n",
        "random_mt = np.array(10 * np.random.random((3,4)))\n",
        "print(random_mt)"
      ],
      "metadata": {
        "colab": {
          "base_uri": "https://localhost:8080/"
        },
        "id": "OhW-AjMNPg0m",
        "outputId": "1a9858c7-adf0-44bb-ce3d-b3b4496e049b"
      },
      "execution_count": 8,
      "outputs": [
        {
          "output_type": "stream",
          "name": "stdout",
          "text": [
            "[0.30401874 0.25670027 0.19126319 0.05987148 0.11639156]\n",
            "----------\n",
            "[ 1.14756733 -0.92561294  1.47258526 -0.71639481 -1.55946256]\n",
            "----------\n",
            "[[3.80649807 1.7816336  8.06614384 3.54237514]\n",
            " [8.28264765 8.24270872 2.65651781 0.51042839]\n",
            " [1.40863026 4.34161383 6.45872757 2.76303203]]\n"
          ]
        }
      ]
    },
    {
      "cell_type": "code",
      "source": [
        "# usando seeds para geração de aleatórios\n",
        "seed = np.random.default_rng(1)\n",
        "random_seed = seed.random(5)\n",
        "print(random_seed)\n",
        "print(\"----------\")\n",
        "# gerar inteiros\n",
        "random_int = seed.integers(10, size=(3,4))\n",
        "print(random_int)"
      ],
      "metadata": {
        "colab": {
          "base_uri": "https://localhost:8080/"
        },
        "id": "0so_6V_USVFP",
        "outputId": "e1fea599-73bd-402e-88e1-148d84d2fabb"
      },
      "execution_count": 12,
      "outputs": [
        {
          "output_type": "stream",
          "name": "stdout",
          "text": [
            "[0.51182162 0.9504637  0.14415961 0.94864945 0.31183145]\n",
            "----------\n",
            "[[8 4 2 8]\n",
            " [2 4 6 5]\n",
            " [0 0 8 7]]\n"
          ]
        }
      ]
    },
    {
      "cell_type": "code",
      "source": [
        "# unique remove repetições\n",
        "j = np.array([10, 11, 13, 15, 12, 20, 11, 14, 10, 15, 24, 12.4])\n",
        "j = np.unique(j)\n",
        "print(j)"
      ],
      "metadata": {
        "colab": {
          "base_uri": "https://localhost:8080/"
        },
        "id": "3jNxrcOXTjLR",
        "outputId": "35d422be-8ab6-4acd-b9c7-a311012dbace"
      },
      "execution_count": 13,
      "outputs": [
        {
          "output_type": "stream",
          "name": "stdout",
          "text": [
            "[10.  11.  12.  12.4 13.  14.  15.  20.  24. ]\n"
          ]
        }
      ]
    },
    {
      "cell_type": "code",
      "source": [
        "# funções específicas\n",
        "# cria a matriz bidimensional k\n",
        "k = np.array([[5, 10, 15], [10, 20, 30], [15, 30, 45]])\n",
        "print(k)\n",
        "print(\"----------\")\n",
        "# acessando elemento\n",
        "print(k[0,1])\n",
        "print(\"----------\")\n",
        "# mostra as dimensões\n",
        "print(k.shape)"
      ],
      "metadata": {
        "colab": {
          "base_uri": "https://localhost:8080/"
        },
        "id": "mYD5loICT3Fl",
        "outputId": "02167b14-1d5e-483c-86e7-2b1b2422900a"
      },
      "execution_count": 14,
      "outputs": [
        {
          "output_type": "stream",
          "name": "stdout",
          "text": [
            "[[ 5 10 15]\n",
            " [10 20 30]\n",
            " [15 30 45]]\n",
            "----------\n",
            "10\n",
            "----------\n",
            "(3, 3)\n"
          ]
        }
      ]
    },
    {
      "cell_type": "code",
      "source": [
        "# Funções matemáticas\n",
        "# valor máximo\n",
        "print(k.max())\n",
        "# valor mínimo\n",
        "print(k.min())\n",
        "# soma dos valores\n",
        "print(k.sum())\n",
        "# média dos valores\n",
        "print(k.mean())\n",
        "# desvio padrão dos valores (standard deviation)\n",
        "print(k.std())"
      ],
      "metadata": {
        "colab": {
          "base_uri": "https://localhost:8080/"
        },
        "id": "o_wg1BlCWDhI",
        "outputId": "4cfe2434-4797-4465-b068-174511d17327"
      },
      "execution_count": 15,
      "outputs": [
        {
          "output_type": "stream",
          "name": "stdout",
          "text": [
            "45\n",
            "5\n",
            "180\n",
            "20.0\n",
            "12.01850425154663\n"
          ]
        }
      ]
    },
    {
      "cell_type": "code",
      "source": [
        "# funções universais aplicadas a todos os elementos\n",
        "# raiz quadrada\n",
        "k1 = np.array([1, 2, 9, 16, 36, 64])\n",
        "print(np.sqrt(k1))\n",
        "# valor exponencial\n",
        "print(np.exp(k1))"
      ],
      "metadata": {
        "colab": {
          "base_uri": "https://localhost:8080/"
        },
        "id": "sgubHzhuWqvp",
        "outputId": "ed5fd5fe-660b-4323-9e54-c37af5d8e5d9"
      },
      "execution_count": 18,
      "outputs": [
        {
          "output_type": "stream",
          "name": "stdout",
          "text": [
            "[1.         1.41421356 3.         4.         6.         8.        ]\n",
            "[2.71828183e+00 7.38905610e+00 8.10308393e+03 8.88611052e+06\n",
            " 4.31123155e+15 6.23514908e+27]\n"
          ]
        }
      ]
    },
    {
      "cell_type": "code",
      "source": [
        "# extração de elementos\n",
        "m = np.array([1, 2, 3, 4, 5, 6, 7, 8, 9])\n",
        "# mostra elemento específico\n",
        "print(m[1])\n",
        "print(\"----------\")\n",
        "# mostra o array criado a partir da posição zero, dois elementos\n",
        "print(m[0:2])\n",
        "print(\"----------\")\n",
        "# mostra o array criado a partir da 2° posição até o final\n",
        "print(m[1:])\n",
        "print(\"----------\")\n",
        "# mostra o array criado a partir da antepenúltima posição até o final\n",
        "print(m[-3:])"
      ],
      "metadata": {
        "colab": {
          "base_uri": "https://localhost:8080/"
        },
        "id": "i60gt04ZXLeg",
        "outputId": "fd43cf24-d933-44f5-8274-c9299790805c"
      },
      "execution_count": 19,
      "outputs": [
        {
          "output_type": "stream",
          "name": "stdout",
          "text": [
            "2\n",
            "----------\n",
            "[1 2]\n",
            "----------\n",
            "[2 3 4 5 6 7 8 9]\n",
            "----------\n",
            "[7 8 9]\n"
          ]
        }
      ]
    },
    {
      "cell_type": "code",
      "source": [
        "# extração de linhas e colunas\n",
        "l = np.array([[4, 5], [6, 1], [7, 3]])\n",
        "print(l)\n",
        "print(\"----------\")\n",
        "# primeira linha, todas as colunas\n",
        "print(l[0,:])\n",
        "print(\"----------\")\n",
        "# segunda linha, todas as colunas\n",
        "print(l[1,:])\n",
        "print(\"----------\")\n",
        "# terceira linha, todas as colunas\n",
        "print(l[2,:])\n",
        "print(\"----------\")\n",
        "# primeira coluna, todas as linhas\n",
        "print(l[:,0])\n",
        "print(\"----------\")\n",
        "# segunda coluna, todas as linhas\n",
        "print(l[:,1])"
      ],
      "metadata": {
        "colab": {
          "base_uri": "https://localhost:8080/"
        },
        "id": "cZpq0xgYZ9Fx",
        "outputId": "a7483697-5b71-4a5f-e03e-10c1f6a88e1a"
      },
      "execution_count": 20,
      "outputs": [
        {
          "output_type": "stream",
          "name": "stdout",
          "text": [
            "[[4 5]\n",
            " [6 1]\n",
            " [7 3]]\n",
            "----------\n",
            "[4 5]\n",
            "----------\n",
            "[6 1]\n",
            "----------\n",
            "[7 3]\n",
            "----------\n",
            "[4 6 7]\n",
            "----------\n",
            "[5 1 3]\n"
          ]
        }
      ]
    },
    {
      "cell_type": "code",
      "source": [
        "# adição e multiplicação de matrizes\n",
        "n = np.array([[1, 2], [3, 4]])\n",
        "o = np.array([[1, 1], [1, 1]])\n",
        "res1 = n + o\n",
        "print(res1)\n",
        "print(\"----------\")\n",
        "res2 = n * o\n",
        "print(res2)\n",
        "print(\"----------\")\n",
        "p = np.array([[1, 2], [3, 4], [5, 6]])\n",
        "q = np.array([2, 1])\n",
        "print(p + q)"
      ],
      "metadata": {
        "colab": {
          "base_uri": "https://localhost:8080/"
        },
        "id": "4-1X-0KLhNRZ",
        "outputId": "afafed42-451a-41dd-8a63-95e0c141bfab"
      },
      "execution_count": 23,
      "outputs": [
        {
          "output_type": "stream",
          "name": "stdout",
          "text": [
            "[[2 3]\n",
            " [4 5]]\n",
            "----------\n",
            "[[1 2]\n",
            " [3 4]]\n",
            "----------\n",
            "[[3 3]\n",
            " [5 5]\n",
            " [7 7]]\n"
          ]
        }
      ]
    },
    {
      "cell_type": "code",
      "source": [
        "# transposição, rearranja um conjunto de 15 elementos de 0 a 14\n",
        "# em 3 linhas e 5 colunas\n",
        "f = np.arange(15).reshape((3, 5))\n",
        "# mostra a matriz transposta\n",
        "print(f)\n",
        "print(\"----------\")\n",
        "s = f.T\n",
        "\"\"\"\n",
        "or: s = f.transpose((1,0))\n",
        "\n",
        "A ordem das dimensões é especificada com a tupla (1,0), indicando que a segunda dimensão -\n",
        "(as colunas) deve vir primeiro e a primeira dimensão (as linhas) deve vir em seguida.\n",
        "\"\"\"\n",
        "print(s)"
      ],
      "metadata": {
        "colab": {
          "base_uri": "https://localhost:8080/"
        },
        "id": "wKqI2qY-iIwD",
        "outputId": "6e57ee94-64d0-4ffb-f4f6-eaa1feca4cf6"
      },
      "execution_count": 25,
      "outputs": [
        {
          "output_type": "stream",
          "name": "stdout",
          "text": [
            "[[ 0  1  2  3  4]\n",
            " [ 5  6  7  8  9]\n",
            " [10 11 12 13 14]]\n",
            "----------\n",
            "[[ 0  5 10]\n",
            " [ 1  6 11]\n",
            " [ 2  7 12]\n",
            " [ 3  8 13]\n",
            " [ 4  9 14]]\n"
          ]
        }
      ]
    },
    {
      "cell_type": "code",
      "source": [
        "# expressões lógicas com where\n",
        "# criando matriz com valores aleatórios positivos e negativos\n",
        "v = np.random.randn(4, 4)\n",
        "print(v)\n",
        "print(\"-------------------------\")\n",
        "# criando matriz com valores booleanos baseado no array v\n",
        "x = (v > 0)\n",
        "print(x)\n",
        "print(\"-------------------------\")\n",
        "# criando matriz com valores 1 e -1 baseado nos valores do array x\n",
        "z = np.where(x > 0, 1, -1)\n",
        "print(z)"
      ],
      "metadata": {
        "colab": {
          "base_uri": "https://localhost:8080/"
        },
        "id": "fdhK2kjAijdX",
        "outputId": "afd40b26-96f5-4874-ba44-bb69b5017fa5"
      },
      "execution_count": 26,
      "outputs": [
        {
          "output_type": "stream",
          "name": "stdout",
          "text": [
            "[[-0.01613584 -1.59836593  0.86558429 -0.84140193]\n",
            " [-0.87819836  0.28338729  1.24447659 -1.0563189 ]\n",
            " [-0.03100878 -0.41319769  0.89741604 -1.07566358]\n",
            " [-0.19762208  0.20017659 -0.24028604 -0.74392869]]\n",
            "-------------------------\n",
            "[[False False  True False]\n",
            " [False  True  True False]\n",
            " [False False  True False]\n",
            " [False  True False False]]\n",
            "-------------------------\n",
            "[[-1 -1  1 -1]\n",
            " [-1  1  1 -1]\n",
            " [-1 -1  1 -1]\n",
            " [-1  1 -1 -1]]\n"
          ]
        }
      ]
    }
  ]
}
