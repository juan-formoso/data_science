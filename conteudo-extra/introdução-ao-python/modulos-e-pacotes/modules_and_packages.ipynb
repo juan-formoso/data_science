{
  "nbformat": 4,
  "nbformat_minor": 0,
  "metadata": {
    "colab": {
      "provenance": []
    },
    "kernelspec": {
      "name": "python3",
      "display_name": "Python 3"
    },
    "language_info": {
      "name": "python"
    }
  },
  "cells": [
    {
      "cell_type": "markdown",
      "source": [
        "# Exercício da Aula - Módulos e Pacotes (Prática em Python)"
      ],
      "metadata": {
        "id": "juUnOos371-k"
      }
    },
    {
      "cell_type": "code",
      "execution_count": null,
      "metadata": {
        "id": "PejHATVQ71YG"
      },
      "outputs": [],
      "source": [
        "#Instalando o pacote\n",
        "#pip install statistics"
      ]
    },
    {
      "cell_type": "code",
      "source": [
        "import statistics\n",
        "z = [10, 20, 30, 40]\n",
        "x = statistics.mean(z)\n",
        "y = statistics.median(z)\n",
        "print(x)\n",
        "print(y)"
      ],
      "metadata": {
        "colab": {
          "base_uri": "https://localhost:8080/"
        },
        "id": "IEqTOdg_8eG5",
        "outputId": "815eecee-dd84-4fc2-ec84-ecbbeb9c2710"
      },
      "execution_count": 1,
      "outputs": [
        {
          "output_type": "stream",
          "name": "stdout",
          "text": [
            "25\n",
            "25.0\n"
          ]
        }
      ]
    },
    {
      "cell_type": "code",
      "source": [
        "import statistics as est\n",
        "z = [10, 20, 30, 40]\n",
        "x = est.mean(z)\n",
        "y = est.median(z)\n",
        "print(x)\n",
        "print(y)"
      ],
      "metadata": {
        "colab": {
          "base_uri": "https://localhost:8080/"
        },
        "id": "tC8h4RQo8rKR",
        "outputId": "09a87bc3-3876-4e5a-a7d3-5c904be641b2"
      },
      "execution_count": 2,
      "outputs": [
        {
          "output_type": "stream",
          "name": "stdout",
          "text": [
            "25\n",
            "25.0\n"
          ]
        }
      ]
    },
    {
      "cell_type": "code",
      "source": [
        "from statistics import mean, median\n",
        "z = [10, 20, 30, 40]\n",
        "x = mean(z)\n",
        "y = median(z)\n",
        "print(x)\n",
        "print(y)"
      ],
      "metadata": {
        "colab": {
          "base_uri": "https://localhost:8080/"
        },
        "id": "cRQHIAMo9KAl",
        "outputId": "3ba5f34c-4232-41e5-af0d-7b0f7eb2324e"
      },
      "execution_count": 3,
      "outputs": [
        {
          "output_type": "stream",
          "name": "stdout",
          "text": [
            "25\n",
            "25.0\n"
          ]
        }
      ]
    },
    {
      "cell_type": "code",
      "source": [
        "from statistics import *\n",
        "z = [10, 20, 30, 40]\n",
        "x = mean(z)\n",
        "y = median(z)\n",
        "print(x)\n",
        "print(y)"
      ],
      "metadata": {
        "colab": {
          "base_uri": "https://localhost:8080/"
        },
        "id": "Flv8o2Mr9UqM",
        "outputId": "b856d766-58aa-41ca-9c49-3e05ccedd5eb"
      },
      "execution_count": 4,
      "outputs": [
        {
          "output_type": "stream",
          "name": "stdout",
          "text": [
            "25\n",
            "25.0\n"
          ]
        }
      ]
    }
  ]
}
