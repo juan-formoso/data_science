{
  "nbformat": 4,
  "nbformat_minor": 0,
  "metadata": {
    "colab": {
      "provenance": []
    },
    "kernelspec": {
      "name": "python3",
      "display_name": "Python 3"
    },
    "language_info": {
      "name": "python"
    }
  },
  "cells": [
    {
      "cell_type": "markdown",
      "source": [
        "# Exercício final do bloco - Introdução ao Python"
      ],
      "metadata": {
        "id": "zQueZhgNIvzo"
      }
    },
    {
      "cell_type": "code",
      "execution_count": 2,
      "metadata": {
        "colab": {
          "base_uri": "https://localhost:8080/"
        },
        "id": "iCAoagH5HrLk",
        "outputId": "a44bd1b6-4e0f-40df-ffac-1fffa77f08ef"
      },
      "outputs": [
        {
          "output_type": "stream",
          "name": "stdout",
          "text": [
            "Amplitude da lista:  9\n"
          ]
        }
      ],
      "source": [
        "# Desafio 1\n",
        "def amplitude(lst):\n",
        "  \"\"\"Calcula a amplitude de uma lista\"\"\"\n",
        "  max_value = max(lst)\n",
        "  min_value = min(lst)\n",
        "  return max_value - min_value\n",
        "\n",
        "# Testando a função\n",
        "lst_example = [1, 5, 8, 10, 2, 4, 7]\n",
        "amp = amplitude(lst_example)\n",
        "print(\"Amplitude da lista: \", amp)"
      ]
    },
    {
      "cell_type": "code",
      "source": [
        "# Desafio 2\n",
        "def print_vertical(text):\n",
        "  \"\"\"Imprime uma string na vertical\"\"\"\n",
        "  for char in text:\n",
        "    print(char)\n",
        "\n",
        "# Testando a função\n",
        "text_example = \"Something\"\n",
        "print_vertical(text_example)"
      ],
      "metadata": {
        "colab": {
          "base_uri": "https://localhost:8080/"
        },
        "id": "LPRIihy2L5CQ",
        "outputId": "500ad241-1ad6-4dd9-de50-17133071a3a4"
      },
      "execution_count": 5,
      "outputs": [
        {
          "output_type": "stream",
          "name": "stdout",
          "text": [
            "S\n",
            "o\n",
            "m\n",
            "e\n",
            "t\n",
            "h\n",
            "i\n",
            "n\n",
            "g\n"
          ]
        }
      ]
    },
    {
      "cell_type": "code",
      "source": [
        "# Desafio 3\n",
        "def calculate_transport_cost(weight):\n",
        "  \"\"\"Calcula o preço do transporte de acordo com o peso da carga\"\"\"\n",
        "  if weight <= 10:\n",
        "    return 50\n",
        "  elif weight <= 20:\n",
        "    return 80\n",
        "  else:\n",
        "    return \"Transport not accepted\"\n",
        "\n",
        "# Testando a função\n",
        "weight = float(input(\"Enter the weight of the load in kg: \"))\n",
        "cost = calculate_transport_cost(weight)\n",
        "\n",
        "if isinstance(cost, str):\n",
        "  print(cost)\n",
        "else:\n",
        "  print(\"Transport cost:\", cost, \"R$\")"
      ],
      "metadata": {
        "colab": {
          "base_uri": "https://localhost:8080/"
        },
        "id": "iL65MSDaNd_N",
        "outputId": "c7433ac3-a695-42c7-b68d-fd52cc40e773"
      },
      "execution_count": 10,
      "outputs": [
        {
          "output_type": "stream",
          "name": "stdout",
          "text": [
            "Enter the weight of the load in kg: 16\n",
            "Transport cost: 80 R$\n"
          ]
        }
      ]
    }
  ]
}
