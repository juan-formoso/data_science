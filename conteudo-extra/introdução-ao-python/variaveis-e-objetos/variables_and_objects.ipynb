{
  "cells": [
    {
      "cell_type": "markdown",
      "source": [
        "# Exercício da Aula - **Variáveis e Objetos** (Prática em Python)"
      ],
      "metadata": {
        "id": "Hqgm_hdl0WSd"
      }
    },
    {
      "cell_type": "code",
      "source": [
        "# Cria variável do tipo inteiro\n",
        "x = 1\n",
        "print(x)\n",
        "# Cria variável do tipo float\n",
        "y = 3.81\n",
        "print(y)\n",
        "# Cria variável do tipo string\n",
        "text = \"Yvanna\"\n",
        "text = 'Yvanna'\n",
        "print(text)\n",
        "# Cria variável do tipo lógico\n",
        "value1 = True\n",
        "value2 = False\n",
        "print(value2)"
      ],
      "metadata": {
        "id": "zshimMro0kAn",
        "outputId": "00f3c77a-31b3-48c3-b61a-7fc06524def2",
        "colab": {
          "base_uri": "https://localhost:8080/"
        }
      },
      "execution_count": null,
      "outputs": [
        {
          "output_type": "stream",
          "name": "stdout",
          "text": [
            "1\n",
            "3.81\n",
            "Yvanna\n",
            "False\n"
          ]
        }
      ]
    },
    {
      "cell_type": "code",
      "source": [
        "# Calculadora\n",
        "a = 10\n",
        "b = 20\n",
        "c = 50\n",
        "\n",
        "formula = (a + b) * c / 100\n",
        "print(formula)"
      ],
      "metadata": {
        "id": "F_j0gVFJ1RZV",
        "outputId": "c50588a1-64c3-4e93-dd60-a6794dc4abed",
        "colab": {
          "base_uri": "https://localhost:8080/"
        }
      },
      "execution_count": null,
      "outputs": [
        {
          "output_type": "stream",
          "name": "stdout",
          "text": [
            "15.0\n"
          ]
        }
      ]
    },
    {
      "cell_type": "code",
      "source": [
        "# Exibir texto no console\n",
        "print(\"Hello World!\")\n",
        "print(a)\n",
        "print(\"Texto e duas variáveis: \", x, \",\", y)"
      ],
      "metadata": {
        "id": "VCaUXMVY1dnt",
        "outputId": "59f1d6f3-cd0c-42cc-9227-556a8514120a",
        "colab": {
          "base_uri": "https://localhost:8080/"
        }
      },
      "execution_count": null,
      "outputs": [
        {
          "output_type": "stream",
          "name": "stdout",
          "text": [
            "Hello World!\n",
            "10\n",
            "Texto e duas variáveis:  1 , 3.81\n"
          ]
        }
      ]
    },
    {
      "cell_type": "code",
      "source": [
        "# Verificar tipo\n",
        "print(type(text))\n",
        "print(type(c))"
      ],
      "metadata": {
        "id": "DoHcKqPL14aj",
        "outputId": "4c6360d8-54c0-4074-c24f-ced055f2620e",
        "colab": {
          "base_uri": "https://localhost:8080/"
        }
      },
      "execution_count": null,
      "outputs": [
        {
          "output_type": "stream",
          "name": "stdout",
          "text": [
            "<class 'str'>\n",
            "<class 'int'>\n"
          ]
        }
      ]
    },
    {
      "cell_type": "code",
      "source": [
        "# Entrada de Dados\n",
        "print(\"Digite um valor: \")\n",
        "i = input()\n",
        "# Mostra tipo do input\n",
        "print(type(i))"
      ],
      "metadata": {
        "id": "It-H1hz91_kw",
        "outputId": "a3bd4797-c89b-4f90-d52a-f575e973f551",
        "colab": {
          "base_uri": "https://localhost:8080/"
        }
      },
      "execution_count": null,
      "outputs": [
        {
          "output_type": "stream",
          "name": "stdout",
          "text": [
            "Digite um valor: \n",
            "12\n",
            "<class 'str'>\n"
          ]
        }
      ]
    },
    {
      "cell_type": "code",
      "source": [
        "# Entrada de valor com mensagem separada e junto\n",
        "print(\"Digite um valor: \")\n",
        "i = input()\n",
        "# OU\n",
        "input(\"Digite um valor: \")"
      ],
      "metadata": {
        "id": "fvjiuTb22OK7",
        "outputId": "85f575d8-dcbe-4251-83b8-1b0298280d45",
        "colab": {
          "base_uri": "https://localhost:8080/",
          "height": 87
        }
      },
      "execution_count": null,
      "outputs": [
        {
          "name": "stdout",
          "output_type": "stream",
          "text": [
            "Digite um valor: \n",
            "200\n",
            "Digite um valor: Ana\n"
          ]
        },
        {
          "output_type": "execute_result",
          "data": {
            "text/plain": [
              "'Ana'"
            ],
            "application/vnd.google.colaboratory.intrinsic+json": {
              "type": "string"
            }
          },
          "metadata": {},
          "execution_count": 6
        }
      ]
    },
    {
      "cell_type": "markdown",
      "source": [
        "### **Conversão de Valores**"
      ],
      "metadata": {
        "id": "3pWKhJZb2b90"
      }
    },
    {
      "cell_type": "code",
      "source": [
        "# Para inteiro\n",
        "var = input(\"Informe o valor: \")\n",
        "print(type(var))\n",
        "var = int(var)\n",
        "print(type(var))"
      ],
      "metadata": {
        "id": "vKZfHYct2kWE",
        "outputId": "e1c8ce40-ffcf-4aff-f8be-273f7f6ef7bb",
        "colab": {
          "base_uri": "https://localhost:8080/"
        }
      },
      "execution_count": null,
      "outputs": [
        {
          "output_type": "stream",
          "name": "stdout",
          "text": [
            "Informe o valor: 6\n",
            "<class 'str'>\n",
            "<class 'int'>\n"
          ]
        }
      ]
    },
    {
      "cell_type": "code",
      "source": [
        "# Para float\n",
        "var = input(\"Informe o valor: \")\n",
        "print(type(var))\n",
        "var = int(var)\n",
        "print(type(var))"
      ],
      "metadata": {
        "id": "4M_lGtYi2u2c",
        "outputId": "77ba5273-9d1f-42ea-f2d1-c9c86b911f32",
        "colab": {
          "base_uri": "https://localhost:8080/"
        }
      },
      "execution_count": null,
      "outputs": [
        {
          "output_type": "stream",
          "name": "stdout",
          "text": [
            "Informe o valor: 10\n",
            "<class 'str'>\n",
            "<class 'int'>\n"
          ]
        }
      ]
    },
    {
      "cell_type": "code",
      "source": [
        "# Este texto é um comentário\n",
        "fruit = \"papaya\" # a partir daqui é um comentário"
      ],
      "metadata": {
        "id": "mVIV5zZN2321"
      },
      "execution_count": null,
      "outputs": []
    }
  ],
  "metadata": {
    "colab": {
      "toc_visible": true,
      "provenance": []
    },
    "kernelspec": {
      "display_name": "Python 3",
      "name": "python3"
    }
  },
  "nbformat": 4,
  "nbformat_minor": 0
}
