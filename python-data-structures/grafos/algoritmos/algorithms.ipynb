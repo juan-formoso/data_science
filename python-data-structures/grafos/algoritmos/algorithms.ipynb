{
  "nbformat": 4,
  "nbformat_minor": 0,
  "metadata": {
    "colab": {
      "provenance": []
    },
    "kernelspec": {
      "name": "python3",
      "display_name": "Python 3"
    },
    "language_info": {
      "name": "python"
    }
  },
  "cells": [
    {
      "cell_type": "markdown",
      "source": [
        "# Algoritmos para grafos em Python"
      ],
      "metadata": {
        "id": "QPZG8EeEqjNW"
      }
    },
    {
      "cell_type": "markdown",
      "source": [
        "## Algoritmo de Kruskal"
      ],
      "metadata": {
        "id": "o_n_GosGqnf3"
      }
    },
    {
      "cell_type": "code",
      "execution_count": 1,
      "metadata": {
        "id": "nDRFvHIxqWjs"
      },
      "outputs": [],
      "source": [
        "# Classe para representar a estrutura de Union-Find\n",
        "class UnionFind:\n",
        "  def __init__(self, n):\n",
        "    self.parent = list(range(n))\n",
        "    self.rank = [0] * n\n",
        "\n",
        "  def find(self, x):\n",
        "    if x != self.parent[x]:\n",
        "      self.parent[x] = self.find(self.parent[x])\n",
        "    return self.parent[x]\n",
        "\n",
        "  def union(self, x, y):\n",
        "    root_x = self.find(x)\n",
        "    root_y = self.find(y)\n",
        "\n",
        "    if root_x != root_y:\n",
        "      if self.rank[root_x] > self.rank[root_y]:\n",
        "        self.parent[root_y] = root_x\n",
        "      elif self.rank[root_x] < self.rank[root_y]:\n",
        "        self.parent[root_x] = root_y\n",
        "      else:\n",
        "        self.parent[root_y] = root_x\n",
        "        self.rank[root_x] += 1\n",
        "\n",
        "\n",
        "def kruskal(graph):\n",
        "  n = len(graph)\n",
        "  edges = []\n",
        "  for i in range(n):\n",
        "    for j in range(i + 1, n):\n",
        "      if graph[i][j] != 0:\n",
        "        edges.append((i, j, graph[i][j]))\n",
        "\n",
        "  edges.sort(key = lambda x: x[2]) # ordena as arestas pelo peso\n",
        "\n",
        "  mst = [] # Árvore Geradora Mínima (AGM)\n",
        "  uf = UnionFind(n)\n",
        "\n",
        "  for edge in edges:\n",
        "    u, v, weight = edge\n",
        "    if uf.find(u) != uf.find(v): # Verifica se a adição da aresta forma um ciclo\n",
        "      mst.append((u, v, weight))\n",
        "      uf.union(u, v)\n",
        "\n",
        "  return mst"
      ]
    },
    {
      "cell_type": "markdown",
      "source": [
        "## Algoritmo de Prim"
      ],
      "metadata": {
        "id": "Wt-PFOMDqrkz"
      }
    },
    {
      "cell_type": "code",
      "source": [
        "def prim(graph):\n",
        "  n = len(graph)\n",
        "  mst = [] # Árvore Geradora Mínima (AGM)\n",
        "  visited = set()\n",
        "  visited.add(0) # Escolhe o vértice 0 como raiz da AGM\n",
        "\n",
        "  while len(visited) < n:\n",
        "    min_edge = None\n",
        "    min_weight = float(\"inf\")\n",
        "\n",
        "    for u in visited:\n",
        "      for v in range(n):\n",
        "        if v not in visited and graph[u][v] != 0:\n",
        "          if graph[u][v] < min_weight:\n",
        "            min_edge = (u, v)\n",
        "            min_weight = graph[u][v]\n",
        "\n",
        "    if min_edge:\n",
        "      u, v = min_edge\n",
        "      mst.append((u, v, min_weight))\n",
        "      visited.add(v)\n",
        "\n",
        "  return mst"
      ],
      "metadata": {
        "id": "Wpsjp6XLuiWS"
      },
      "execution_count": 2,
      "outputs": []
    },
    {
      "cell_type": "markdown",
      "source": [
        "## Algoritmo de Dijkstra"
      ],
      "metadata": {
        "id": "tM5RXpSnquBi"
      }
    },
    {
      "cell_type": "code",
      "source": [
        "import heapq\n",
        "\n",
        "def dijkstra(graph, start):\n",
        "  distances = {vertex: float(\"inf\") for vertex in graph}\n",
        "  distances[start] = 0\n",
        "  priority_queue = [(0, start)]\n",
        "\n",
        "  while priority_queue:\n",
        "    current_distance, current_vertex = heapq.heappop(priority_queue)\n",
        "\n",
        "    if current_distance > distances[current_vertex]:\n",
        "      continue\n",
        "\n",
        "    for neighbor, weight in graph[current_vertex].items():\n",
        "      distance = current_distance + weight\n",
        "      if distance < distances[neighbor]:\n",
        "        distances[neighbor] = distance\n",
        "        heapq.heappush(priority_queue, (distance, neighbor))\n",
        "\n",
        "  return distances"
      ],
      "metadata": {
        "id": "lEEu-8pv0AMM"
      },
      "execution_count": 3,
      "outputs": []
    }
  ]
}