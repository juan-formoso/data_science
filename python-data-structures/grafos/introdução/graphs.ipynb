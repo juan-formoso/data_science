{
  "nbformat": 4,
  "nbformat_minor": 0,
  "metadata": {
    "colab": {
      "provenance": []
    },
    "kernelspec": {
      "name": "python3",
      "display_name": "Python 3"
    },
    "language_info": {
      "name": "python"
    }
  },
  "cells": [
    {
      "cell_type": "markdown",
      "source": [
        "# Introdução à Grafos"
      ],
      "metadata": {
        "id": "mX8747jsnJ76"
      }
    },
    {
      "cell_type": "code",
      "execution_count": 1,
      "metadata": {
        "id": "kfi7fsdImx6x"
      },
      "outputs": [],
      "source": [
        "# Listas de Adjacência\n",
        "class Grafo_A:\n",
        "  def __init__(self):\n",
        "    self.grafo = {}\n",
        "\n",
        "  def adicionar_vertice(self, vertice):\n",
        "    if vertice not in self.grafo:\n",
        "      self.grafo[vertice] = {}\n",
        "\n",
        "  def adicionar_aresta(self, vertice1, vertice2, peso = None):\n",
        "    self.adicionar_vertice(vertice1)\n",
        "    self.adicionar_vertice(vertice2)\n",
        "    if peso:\n",
        "      self.grafo[vertice1].append((vertice2, peso))\n",
        "      self.grafo[vertice2].append((vertice1, peso))\n",
        "    else:\n",
        "      self.grafo[vertice1].append(vertice2)\n",
        "      self.grafo[vertice2].append(vertice1)"
      ]
    },
    {
      "cell_type": "code",
      "source": [
        "# Matriz de Adjacência\n",
        "class Grafo_B:\n",
        "  def __init__(self, vertices):\n",
        "    self.vertices = vertices\n",
        "    self.grafo = [[0 for _ in range(vertices)] for _ in range(vertices)]\n",
        "\n",
        "  def adicionar_aresta(self, vertice1, vertice2, peso = None):\n",
        "    self.grafo[vertice1][vertice2] = peso\n",
        "    self.grafo[vertice2][vertice1] = peso"
      ],
      "metadata": {
        "id": "Zt3M1yHVoEFP"
      },
      "execution_count": 3,
      "outputs": []
    },
    {
      "cell_type": "code",
      "source": [
        "# Lista de Arestas\n",
        "class Grafo_C:\n",
        "  def __init__(self):\n",
        "    self.arestas = []\n",
        "\n",
        "  def adicionar_aresta(self, vertice1, vertice2, peso = None):\n",
        "    self.arestas.append((vertice1, vertice2, peso))"
      ],
      "metadata": {
        "id": "WLlP35iWox3L"
      },
      "execution_count": 2,
      "outputs": []
    }
  ]
}