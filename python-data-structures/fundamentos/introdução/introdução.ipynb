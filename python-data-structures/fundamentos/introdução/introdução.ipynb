{
  "nbformat": 4,
  "nbformat_minor": 0,
  "metadata": {
    "colab": {
      "provenance": []
    },
    "kernelspec": {
      "name": "python3",
      "display_name": "Python 3"
    },
    "language_info": {
      "name": "python"
    }
  },
  "cells": [
    {
      "cell_type": "markdown",
      "source": [
        "# Introdução à Estrutura de Dados em Python"
      ],
      "metadata": {
        "id": "NFf0MdorSSRq"
      }
    },
    {
      "cell_type": "markdown",
      "source": [
        "## Estruturas definidas pelo usuário"
      ],
      "metadata": {
        "id": "c9kBlFDzShb1"
      }
    },
    {
      "cell_type": "code",
      "execution_count": 6,
      "metadata": {
        "colab": {
          "base_uri": "https://localhost:8080/"
        },
        "id": "JQEFLs-DQH0U",
        "outputId": "f46d897b-7120-48f3-e08a-53a549880344"
      },
      "outputs": [
        {
          "output_type": "stream",
          "name": "stdout",
          "text": [
            "Olá, meu nome é João e tenho 30 anos.\n",
            "Olá, meu nome é Maria e tenho 20 anos.\n"
          ]
        }
      ],
      "source": [
        "# criando uma estrutura de dados de classe chamada \"Pessoa\"\n",
        "class Pessoa:\n",
        "    def __init__(self, nome, idade):\n",
        "        self.nome = nome\n",
        "        self.idade = idade\n",
        "\n",
        "    def apresentar(self):\n",
        "        print(f\"Olá, meu nome é {self.nome} e tenho {self.idade} anos.\")\n",
        "\n",
        "# criando objetos dessa classe\n",
        "pessoa1 = Pessoa(\"João\", 30)\n",
        "pessoa2 = Pessoa(\"Maria\", 20)\n",
        "\n",
        "pessoa1.apresentar()\n",
        "pessoa2.apresentar()"
      ]
    },
    {
      "cell_type": "markdown",
      "source": [
        "## Sequências"
      ],
      "metadata": {
        "id": "WYmaFZwMUk7D"
      }
    },
    {
      "cell_type": "code",
      "source": [
        "# strings (str): sequência de caracteres que representam texto\n",
        "# strings são imutáveis\n",
        "texto = \"Olá mundo!\"\n",
        "print(texto[0])\n",
        "print(len(texto))\n",
        "\n",
        "# listas (list): coleções ordenadas e mutáveis de elementos que podem ser de diferentes tipos de dados\n",
        "lista_numeros = [1, 2, 3, 4, 5]\n",
        "print(lista_numeros[2])\n",
        "print(len(lista_numeros))\n",
        "lista_numeros.append(6) # adiciona o valor 6 ao final da lista"
      ],
      "metadata": {
        "colab": {
          "base_uri": "https://localhost:8080/"
        },
        "id": "rCF7hKojVtZ6",
        "outputId": "68738cbc-f4ce-4bbc-e44b-b6d37fb01f13"
      },
      "execution_count": 8,
      "outputs": [
        {
          "output_type": "stream",
          "name": "stdout",
          "text": [
            "O\n",
            "10\n",
            "3\n",
            "5\n"
          ]
        }
      ]
    },
    {
      "cell_type": "markdown",
      "source": [
        "## Tuplas"
      ],
      "metadata": {
        "id": "mh_U3XQEXSUx"
      }
    },
    {
      "cell_type": "code",
      "source": [
        "# tuplas são semelhantes às listas, mas são imútaveis\n",
        "tupla_coordenadas = (10.5, 20.0)\n",
        "print(tupla_coordenadas[1])\n",
        "print(len(tupla_coordenadas))"
      ],
      "metadata": {
        "colab": {
          "base_uri": "https://localhost:8080/"
        },
        "id": "UMBqZKeDXVcl",
        "outputId": "a6f0e360-9242-4754-b7b7-63b874dde680"
      },
      "execution_count": 9,
      "outputs": [
        {
          "output_type": "stream",
          "name": "stdout",
          "text": [
            "20.0\n",
            "2\n"
          ]
        }
      ]
    },
    {
      "cell_type": "markdown",
      "source": [
        "## Dicionários"
      ],
      "metadata": {
        "id": "pganGE2rYWN7"
      }
    },
    {
      "cell_type": "code",
      "source": [
        "# criando um dicionário vazio\n",
        "meu_dicionario = {}\n",
        "\n",
        "\n",
        "# adicionando elementos ao dicionário\n",
        "meu_dicionario[\"nome\"] = \"João\"\n",
        "meu_dicionario[\"idade\"] = 30\n",
        "meu_dicionario[\"cidade\"] = \"São Paulo\"\n",
        "\n",
        "# acessando valores pelos índices (chaves)\n",
        "print(meu_dicionario[\"nome\"])\n",
        "print(meu_dicionario[\"idade\"])\n",
        "\n",
        "# alterando valores\n",
        "meu_dicionario[\"idade\"] = 31\n",
        "\n",
        "# removendo elemento\n",
        "del meu_dicionario[\"cidade\"]\n",
        "\n",
        "# verificando se uma chave está presente no dicionário\n",
        "if \"nome\" in meu_dicionario:\n",
        "  print(\"Chave 'nome' encontrada!\")\n",
        "\n",
        "# obtendo todas as chaves do dicionario\n",
        "chaves = meu_dicionario.keys()\n",
        "\n",
        "# obtendo todos os valores do dicionario\n",
        "valores = meu_dicionario.values()\n",
        "\n",
        "# iterando sobre as chaves e valores\n",
        "for chave, valor in meu_dicionario.items():\n",
        "  print(f\"Chave: {chave}, Valor: {valor}\")"
      ],
      "metadata": {
        "colab": {
          "base_uri": "https://localhost:8080/"
        },
        "id": "38SKeXhPYaBt",
        "outputId": "ba923bdf-f116-41f1-8d92-d4f4d2d6f470"
      },
      "execution_count": 11,
      "outputs": [
        {
          "output_type": "stream",
          "name": "stdout",
          "text": [
            "João\n",
            "30\n",
            "Chave 'nome' encontrada!\n",
            "Chave: nome, Valor: João\n",
            "Chave: idade, Valor: 31\n"
          ]
        }
      ]
    },
    {
      "cell_type": "markdown",
      "source": [
        "## Conjuntos"
      ],
      "metadata": {
        "id": "wh0Z1iGLbdKC"
      }
    },
    {
      "cell_type": "code",
      "source": [
        "# criando um conjunto vazio\n",
        "meu_conjunto = set()\n",
        "\n",
        "# criando um conjunto com elementos\n",
        "conjunto_cores = {\"vermelho\", \"azul\", \"verde\"}\n",
        "\n",
        "# adicionando elementos ao conjunto\n",
        "meu_conjunto.add(10)\n",
        "meu_conjunto.add(\"abc\")\n",
        "\n",
        "# tentando adicionar elementos duplicados (não será adicionado novamente)\n",
        "meu_conjunto.add(10)\n",
        "\n",
        "# removendo elementos do conjunto\n",
        "meu_conjunto.remove(\"abc\")\n",
        "\n",
        "# verificando se um elemento está presente no conjunto\n",
        "if \"vermelho\" in conjunto_cores:\n",
        "  print(\"O conjunto contém a cor vermelha!\")\n",
        "\n",
        "# união de conjuntos\n",
        "conjunto1 = {1, 2, 3}\n",
        "conjunto2 = {3, 4, 5}\n",
        "uniao = conjunto1.union(conjunto2) # também pode ser feito com o operador \"|\"\n",
        "\n",
        "# interseção de conjuntos\n",
        "intersecao = conjunto1.intersection(conjunto2) # também pode ser feito com o operador \"&\"\n",
        "\n",
        "# diferença entre conjuntos\n",
        "diferenca = conjunto1.difference(conjunto2) # também pode ser feito com o operador \"-\"\n",
        "\n",
        "# verificando se um conjunto é subconjunto de outro\n",
        "if conjunto1.issubset(conjunto2): # também pode ser feito com o operador \"<=\"\n",
        "  print(\"conjunto1 é subconjunto de conjunto2!\")"
      ],
      "metadata": {
        "colab": {
          "base_uri": "https://localhost:8080/"
        },
        "id": "WtPT9y21be_-",
        "outputId": "76ca4c3e-1755-4f5a-8b88-9f2ec4e7e581"
      },
      "execution_count": 12,
      "outputs": [
        {
          "output_type": "stream",
          "name": "stdout",
          "text": [
            "O conjunto contém a cor vermelha!\n"
          ]
        }
      ]
    }
  ]
}