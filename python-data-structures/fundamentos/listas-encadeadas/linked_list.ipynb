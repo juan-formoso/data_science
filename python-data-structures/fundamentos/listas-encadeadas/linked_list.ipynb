{
  "nbformat": 4,
  "nbformat_minor": 0,
  "metadata": {
    "colab": {
      "provenance": []
    },
    "kernelspec": {
      "name": "python3",
      "display_name": "Python 3"
    },
    "language_info": {
      "name": "python"
    }
  },
  "cells": [
    {
      "cell_type": "markdown",
      "source": [
        "# Listas Encadeadas"
      ],
      "metadata": {
        "id": "rqR4xnT9f2mp"
      }
    },
    {
      "cell_type": "markdown",
      "source": [
        "## Busca e deleção de itens"
      ],
      "metadata": {
        "id": "I67TXAUGgYGl"
      }
    },
    {
      "cell_type": "code",
      "execution_count": 1,
      "metadata": {
        "colab": {
          "base_uri": "https://localhost:8080/"
        },
        "id": "rWYOx_FEe0en",
        "outputId": "d0299ff8-b276-48f6-ca5b-c9bd31f99be7"
      },
      "outputs": [
        {
          "output_type": "stream",
          "name": "stdout",
          "text": [
            "True\n",
            "False\n"
          ]
        },
        {
          "output_type": "execute_result",
          "data": {
            "text/plain": [
              "True"
            ]
          },
          "metadata": {},
          "execution_count": 1
        }
      ],
      "source": [
        "class Node:\n",
        "  def __init__(self, data):\n",
        "    self.data = data\n",
        "    self.next = None\n",
        "\n",
        "class LinkedList:\n",
        "  def __init__(self):\n",
        "    self.head = None\n",
        "\n",
        "  def search(self, target):\n",
        "    current = self.head\n",
        "    while current is not None:\n",
        "      if current.data == target:\n",
        "        return True\n",
        "      current = current.next\n",
        "    return False\n",
        "\n",
        "  def delete(self, target):\n",
        "    current = self.head\n",
        "    previous = None\n",
        "\n",
        "    while current is not None:\n",
        "      if current.data == target:\n",
        "        if previous is not None:\n",
        "          previous.next = current.next\n",
        "        else:\n",
        "          self.head = current.next\n",
        "        return True\n",
        "      previous = current\n",
        "      current = current.next\n",
        "    return False\n",
        "\n",
        "# Criando uma lista encadeada\n",
        "linked_list = LinkedList()\n",
        "node1 = Node(10)\n",
        "node2 = Node(20)\n",
        "node3 = Node(30)\n",
        "\n",
        "linked_list.head = node1\n",
        "node1.next = node2\n",
        "node2.next = node3\n",
        "\n",
        "# buscando um item na lista encadeada\n",
        "print(linked_list.search(20))\n",
        "print(linked_list.search(40))\n",
        "\n",
        "# deletando um item na lista encadeada\n",
        "linked_list.delete(20)"
      ]
    }
  ]
}