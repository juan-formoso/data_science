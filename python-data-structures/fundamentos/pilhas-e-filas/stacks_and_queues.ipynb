{
  "nbformat": 4,
  "nbformat_minor": 0,
  "metadata": {
    "colab": {
      "provenance": []
    },
    "kernelspec": {
      "name": "python3",
      "display_name": "Python 3"
    },
    "language_info": {
      "name": "python"
    }
  },
  "cells": [
    {
      "cell_type": "markdown",
      "source": [
        "# Pilhas e filas"
      ],
      "metadata": {
        "id": "_IREGSi1jK1_"
      }
    },
    {
      "cell_type": "markdown",
      "source": [
        "## Implementando pilhas em Python - push e pop"
      ],
      "metadata": {
        "id": "LGRpuFR8jTDG"
      }
    },
    {
      "cell_type": "code",
      "execution_count": 4,
      "metadata": {
        "colab": {
          "base_uri": "https://localhost:8080/"
        },
        "id": "qVLg3cK8isCC",
        "outputId": "e6607017-7d0d-4bc8-f792-bb8a314c92ca"
      },
      "outputs": [
        {
          "output_type": "stream",
          "name": "stdout",
          "text": [
            "Tamanho da pilha: 3\n",
            "Elemento no topo da pilha: 30\n",
            "Tamanho da pilha após o pop: 2\n",
            "Novo elemento no topo da pilha: 20\n"
          ]
        }
      ],
      "source": [
        "class Pilha:\n",
        "    def __init__(self):\n",
        "        self.items = []\n",
        "\n",
        "    def push(self, item):\n",
        "        self.items.append(item)\n",
        "\n",
        "    def pop(self):\n",
        "        if not self.is_empty():\n",
        "            return self.items.pop()\n",
        "\n",
        "    def is_empty(self):\n",
        "        return len(self.items) == 0\n",
        "\n",
        "    def peek(self):\n",
        "        if not self.is_empty():\n",
        "            return self.items[-1]\n",
        "\n",
        "    def size(self):\n",
        "        return len(self.items)\n",
        "\n",
        "# Exemplo de uso da pilha\n",
        "pilha = Pilha()\n",
        "\n",
        "pilha.push(10)\n",
        "pilha.push(20)\n",
        "pilha.push(30)\n",
        "\n",
        "print(\"Tamanho da pilha:\", pilha.size())\n",
        "print(\"Elemento no topo da pilha:\", pilha.peek())\n",
        "\n",
        "pilha.pop()\n",
        "print(\"Tamanho da pilha após o pop:\", pilha.size())\n",
        "print(\"Novo elemento no topo da pilha:\", pilha.peek())"
      ]
    },
    {
      "cell_type": "markdown",
      "source": [
        "## Filas e suas operações"
      ],
      "metadata": {
        "id": "QKPQQ92WlOzY"
      }
    },
    {
      "cell_type": "code",
      "source": [
        "class Fila:\n",
        "  def __init__(self):\n",
        "    self.items = []\n",
        "\n",
        "  def enqueue(self, item):\n",
        "    self.items.append(item)\n",
        "\n",
        "  def dequeue(self):\n",
        "    if not self.is_empty():\n",
        "      return self.items.pop(0)\n",
        "\n",
        "  def front(self):\n",
        "    if not self.is_empty():\n",
        "      return self.items[0]\n",
        "\n",
        "  def is_empty(self):\n",
        "    return len(self.items) == 0\n",
        "\n",
        "  def size(self):\n",
        "    return len(self.items)\n",
        "\n",
        "# Exemplo de uso da fila\n",
        "fila = Fila()\n",
        "\n",
        "fila.enqueue(10)\n",
        "fila.enqueue(20)\n",
        "fila.enqueue(30)\n",
        "\n",
        "print(\"Tamanho da fila:\", fila.size())\n",
        "print(\"Elemento no início da fila:\", fila.front())\n",
        "\n",
        "fila.dequeue()\n",
        "print(\"Tamanho da fila após o dequeue:\", fila.size())\n",
        "print(\"Novo elemento no início da fila:\", fila.front())"
      ],
      "metadata": {
        "colab": {
          "base_uri": "https://localhost:8080/"
        },
        "id": "hAPEzrG8lraI",
        "outputId": "bc9e81be-afde-4ae5-9113-f7f0ca2405f3"
      },
      "execution_count": 5,
      "outputs": [
        {
          "output_type": "stream",
          "name": "stdout",
          "text": [
            "Tamanho da fila: 3\n",
            "Elemento no início da fila: 10\n",
            "Tamanho da fila após o dequeue: 2\n",
            "Novo elemento no início da fila: 20\n"
          ]
        }
      ]
    }
  ]
}