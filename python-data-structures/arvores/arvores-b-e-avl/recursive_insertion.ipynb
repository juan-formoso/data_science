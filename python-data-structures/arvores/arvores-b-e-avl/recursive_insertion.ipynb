{
  "nbformat": 4,
  "nbformat_minor": 0,
  "metadata": {
    "colab": {
      "provenance": []
    },
    "kernelspec": {
      "name": "python3",
      "display_name": "Python 3"
    },
    "language_info": {
      "name": "python"
    }
  },
  "cells": [
    {
      "cell_type": "markdown",
      "source": [
        "# Exemplo de inserção recursiva em uma árvore AVL"
      ],
      "metadata": {
        "id": "WHVFoJHF3NmQ"
      }
    },
    {
      "cell_type": "code",
      "execution_count": 3,
      "metadata": {
        "id": "jP1vt8RgxJ16"
      },
      "outputs": [],
      "source": [
        "class TreeNode:\n",
        "  def __init__(self, value):\n",
        "    self.value = value\n",
        "    self.left = None\n",
        "    self.right = None\n",
        "    self.height = 1\n",
        "\n",
        "class AVLTree:\n",
        "  def insert(self, root, value):\n",
        "    if root is None:\n",
        "      return TreeNode(value)\n",
        "\n",
        "    if value < root.value:\n",
        "      root.left = self.insert(root.left, value)\n",
        "    else:\n",
        "      root.right = self.insert(root.right, value)\n",
        "\n",
        "    root.height = 1 + max(self.get_height(root.left), self.get_height(root.right))\n",
        "    balance = self.get_balance(root)\n",
        "\n",
        "    # verifica o fator de balanceamento e realiza as rotações se necessário\n",
        "    if balance > 1:\n",
        "      if value < root.left.value:\n",
        "        return self.rotate_right(root)\n",
        "      else:\n",
        "        root.left = self.rotate_left(root.left)\n",
        "        return self.rotate_right(root)\n",
        "    if balance < -1:\n",
        "      if value > root.right.value:\n",
        "        return self.rotate_left(root)\n",
        "      else:\n",
        "        root.right = self.rotate_right(root.right)\n",
        "        return self.rotate_left(root)\n",
        "\n",
        "    return root\n",
        "\n",
        "  def get_height(self, node):\n",
        "    if node is None:\n",
        "      return 0\n",
        "    return node.height\n",
        "\n",
        "  def get_balance(self, node):\n",
        "    if node is None:\n",
        "      return 0\n",
        "    return self.get_height(node.left) - self.get_height(node.right)\n",
        "\n",
        "  def rotate_right(self, z):\n",
        "    y = z.left\n",
        "    T3 = y.right\n",
        "\n",
        "    y.right= z\n",
        "    z.left = T3\n",
        "\n",
        "    z.height = 1 + max(self.get_height(z.left), self.get_height(z.right))\n",
        "    y.height = 1 + max(self.get_height(y.left), self.get_height(y.right))\n",
        "\n",
        "    return y\n",
        "\n",
        "  def rotate_left(self, y):\n",
        "    x = y.right\n",
        "    T2 = x.left\n",
        "\n",
        "    x.left = y\n",
        "    y.right = T2\n",
        "\n",
        "    y.height = 1 + max(self.get_height(y.left), self.get_height(y.right))\n",
        "    x.height = 1 + max(self.get_height(x.left), self.get_height(x.right))\n",
        "\n",
        "    return x"
      ]
    }
  ]
}